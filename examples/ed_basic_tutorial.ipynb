{
 "cells": [
  {
   "cell_type": "markdown",
   "id": "d950a45b-ca37-4a80-a4f8-d38bfbd155dc",
   "metadata": {},
   "source": [
    "# Exact Diagonalization using XDiag and Julia\n",
    "\n",
    "> **Alexander Wietek**\n",
    ">\n",
    "> Max Planck Institute for the Physics of Complex Systems, Dresden\n",
    ">\n",
    "> https://awietek.github.io/xdiag/\n",
    ">\n",
    "> https://www.pks.mpg.de/smc"
   ]
  },
  {
   "cell_type": "markdown",
   "id": "599981b2-1b30-42e9-8ee5-a420392e520f",
   "metadata": {},
   "source": [
    "## Creating Hilbert spaces\n",
    "First we load the XDiag package for Exact Diagonalization"
   ]
  },
  {
   "cell_type": "code",
   "execution_count": null,
   "id": "6abe2397-7a68-4569-bab0-54cffe95819f",
   "metadata": {},
   "outputs": [],
   "source": [
    "using XDiag"
   ]
  },
  {
   "cell_type": "markdown",
   "id": "b440fba6-c842-4f56-b22b-a99216f28798",
   "metadata": {},
   "source": [
    "Let us start with a single spin $S=1/2$ particle and create its Hilbert space, and print out the configurations."
   ]
  },
  {
   "cell_type": "code",
   "execution_count": null,
   "id": "d4c4ebdb-79a6-49ee-9c01-b993e451a046",
   "metadata": {},
   "outputs": [],
   "source": [
    "hspace = Spinhalf(1)\n",
    "for s in hspace\n",
    "    print(s)\n",
    "end"
   ]
  },
  {
   "cell_type": "markdown",
   "id": "7675f8f3-2069-4d22-917d-fc6708aad5c4",
   "metadata": {},
   "source": [
    "We can so the same for 2-particles, "
   ]
  },
  {
   "cell_type": "code",
   "execution_count": null,
   "id": "3322dbd6-6fca-48bc-b8d7-38a422821a89",
   "metadata": {},
   "outputs": [],
   "source": [
    "hspace = Spinhalf(2)\n",
    "for s in hspace\n",
    "    print(s)\n",
    "end"
   ]
  },
  {
   "cell_type": "markdown",
   "id": "f6763dc8-4d0c-47df-9938-6e8174455731",
   "metadata": {},
   "source": [
    "3-particles, and so on."
   ]
  },
  {
   "cell_type": "code",
   "execution_count": null,
   "id": "9c43e8d2-6fda-4cbc-8782-6bba873f0fdd",
   "metadata": {},
   "outputs": [],
   "source": [
    "hspace = Spinhalf(3)\n",
    "for s in hspace\n",
    "    print(s)\n",
    "end"
   ]
  },
  {
   "cell_type": "markdown",
   "id": "d19d569e-5852-4571-97b6-4aaec8cd1b45",
   "metadata": {},
   "source": [
    "## Defining operators\n",
    "\n",
    "We define our first operator acting on two spin one-half particles. We define the Heisenberg (\"HB\") interaction given by\n",
    "\n",
    "$$ \\mathbf{S}_i\\cdot \\mathbf{S}_j = S^x_i S^x_j + S^y_i S^y_j + S^z_i S^z_j$$\n",
    "\n",
    "where the spin matrices $S^\\alpha$ are given by\n",
    "\n",
    "$$ S^x = \\frac{1}{2} \\begin{pmatrix} 0 & 1 \\\\ 1 & 0 \\end{pmatrix} \\quad\n",
    "S^y = \\frac{1}{2} \\begin{pmatrix} 0 & -i \\\\ i & 0 \\end{pmatrix} \\quad\n",
    "S^z = \\frac{1}{2} \\begin{pmatrix} 1 & 0 \\\\ 0 & 1 \\end{pmatrix}\n",
    "$$\n",
    "\n",
    "To do so, we create an \"OpSum\" object, which encodes the sum of local operators, and add an \"Op\" object to it describing the Heisenberg interaction."
   ]
  },
  {
   "cell_type": "code",
   "execution_count": null,
   "id": "6552c934-d419-4fab-a066-b568e23775e9",
   "metadata": {},
   "outputs": [],
   "source": [
    "ops = OpSum()\n",
    "ops += Op(\"HB\", 1.0, [1, 2])\n",
    "hspace = Spinhalf(2)\n",
    "H = matrix(ops, hspace)"
   ]
  },
  {
   "cell_type": "markdown",
   "id": "4af53f66-eb27-4afa-9351-7640dd30014e",
   "metadata": {},
   "source": [
    "For the \"Op\" object the first argument defines the type of the interaction, in this case the Heisenberg interaction \"HB\". The second arguments sets the prefactor, in this case just 1.0. The third argument is a list of the sites this operator is acting on. Now we are interested in the eigenvalues and eigenvectors of this interaction."
   ]
  },
  {
   "cell_type": "code",
   "execution_count": null,
   "id": "82945cbf-5fb5-4441-994e-58715fb48640",
   "metadata": {},
   "outputs": [],
   "source": [
    "using LinearAlgebra\n",
    "eigen(H)"
   ]
  },
  {
   "cell_type": "markdown",
   "id": "3e5f1904-8154-4e5a-a68f-56ddc37d4e07",
   "metadata": {},
   "source": [
    "We see there is one eigenvalue $\\varepsilon_1 = -3/4$ and three degenerate eigenvalues $\\varepsilon_{2,3,4} = 1/4$. The corresponding eigenvectors are:\n",
    "\n",
    "$$\n",
    "\\begin{align}\n",
    "| \\psi_1 \\rangle &= \\frac{1}{\\sqrt{2}}(|\\uparrow\\downarrow\\rangle - |\\downarrow\\uparrow\\rangle) \\\\\n",
    "| \\psi_2 \\rangle &= |\\downarrow\\downarrow\\rangle \\\\\n",
    "| \\psi_3 \\rangle &= \\frac{1}{\\sqrt{2}}(|\\uparrow\\downarrow\\rangle + |\\downarrow\\uparrow\\rangle) \\\\\n",
    "| \\psi_4 \\rangle &= |\\uparrow\\uparrow\\rangle \n",
    "\\end{align}\n",
    "$$"
   ]
  },
  {
   "cell_type": "markdown",
   "id": "c24ded1f-4fca-4bac-8412-0ca802334be6",
   "metadata": {},
   "source": [
    "So we see the ground state is the singlet state with total spin $S=0$ and the excited states are the triplet states with $S=1$."
   ]
  },
  {
   "cell_type": "markdown",
   "id": "32903f10-5faa-4c5b-9b94-bcfa1156306a",
   "metadata": {},
   "source": [
    "### Exersise 1:\n",
    "\n",
    "Create a Hilbert space on three sites denoting the edges 1,2, and 3 of a triangle. Then consider the Heisenberg model on this triangle, i.e. Heisenberg interactions between the site pairs [1, 2], [2, 3], and [3, 1]. Compute the eigenvalues and eigenvectors, to find out what is the degeneracy and total spin of the ground state and the excited states. Can all degeneracies be explained by spin rotation $SU(2)$ symmetry?"
   ]
  },
  {
   "cell_type": "code",
   "execution_count": null,
   "id": "6de7ba93-033b-4ac4-bc36-f3b110721ed2",
   "metadata": {},
   "outputs": [],
   "source": []
  },
  {
   "cell_type": "markdown",
   "id": "b0fbbd53-61a8-4bfa-a7bb-540ded87388a",
   "metadata": {},
   "source": [
    "#### Solution"
   ]
  },
  {
   "cell_type": "code",
   "execution_count": null,
   "id": "10a3aed0-74e8-488f-be3c-45253a5f9881",
   "metadata": {
    "jupyter": {
     "source_hidden": true
    }
   },
   "outputs": [],
   "source": [
    "hspace = Spinhalf(3)\n",
    "ops = OpSum()\n",
    "ops += Op(\"HB\", 1.0, [1, 2])\n",
    "ops += Op(\"HB\", 1.0, [2, 3])\n",
    "ops += Op(\"HB\", 1.0, [3, 1])\n",
    "H = matrix(ops, hspace)\n",
    "eigen(H)"
   ]
  },
  {
   "cell_type": "markdown",
   "id": "8f08ac6b-8435-44cd-80fa-cd0a2aef205f",
   "metadata": {},
   "source": [
    "## $S^z$ conservation\n",
    "\n",
    "The Heisenberg interaction conserved the total $S^z$. Thus, our Hilbert space decomposes into blocks which are not coupled by one another, where configurations have a fixed value of the total $S^z$. We can create these blocks and express the H"
   ]
  },
  {
   "cell_type": "code",
   "execution_count": null,
   "id": "cc3a1bda-ffaf-4a8f-8d9f-7439a1288957",
   "metadata": {},
   "outputs": [],
   "source": [
    "ops = OpSum()\n",
    "ops += Op(\"HB\", 1.0, [1, 2])\n",
    "ops += Op(\"HB\", 1.0, [2, 3])\n",
    "ops += Op(\"HB\", 1.0, [3, 1])\n",
    "for nup in 0:3\n",
    "    block = Spinhalf(3, nup)\n",
    "    H = matrix(ops, block)\n",
    "    display(H)\n",
    "end"
   ]
  },
  {
   "cell_type": "markdown",
   "id": "75ed8126-36c9-491f-b425-127de9c8c84a",
   "metadata": {},
   "source": [
    "## Translational symmetry\n",
    "\n",
    "Let us refer to the Hamiltonian,\n",
    "\n",
    "$$ H = \\sum_{i=1}^N \\mathbf{S}_i\\cdot \\mathbf{S}_{(i+1) \\textrm{ mod } N} $$\n",
    "\n",
    "to the $N$-site Heisenberg chain with periodic boundary conditions. Hamiltonians can be invariant under translation symmetries. In the example with the three-site Heisenberg model, the Hamiltonian is invariant under exchanging the sites $1 \\rightarrow 2 \\rightarrow 3 \\rightarrow 1$. More formally, we can define a translation operator by\n",
    "\n",
    "$$ T: |\\sigma_1 \\sigma_2 \\cdots \\sigma_{N-1} \\sigma_N \\rangle \\rightarrow |\\sigma_N \\sigma_1 \\cdots \\sigma_{N-2} \\sigma_{N-1} \\rangle$$ \n",
    "\n",
    "A symmetry $S$ of a Hamiltonian $H$ is an operator which commutes with $H$, i.e.\n",
    "\n",
    "$$ [H, S] \\equiv H S - S H = 0$$\n",
    "\n",
    "For a cyclic Hamiltonian, one can easily check that $T$ commutes with $H$. If $S$ and $T$ commute with a Hamiltonian, so does $ST$,\n",
    "\n",
    "$$ HST = SHT = STH \\Rightarrow [H, ST] = 0$$\n",
    "\n",
    "Similarly, one can also see that the inverse of $S$ needs to be yet another symmetry. Hence, the set of symmetries forms a mathematical group, the symmetry group. A key concept in quantum mechanics is that every symmetry group divides the Hilbert space into **blocks** which can be labeled by a so-called **quantum number** $\\rho$. Quantum numbers refer to the eigenvalues of the symmetry operator. Assume we have a state $|\\psi\\rangle$ which fulfills\n",
    "\n",
    "$$ S |\\psi_\\rho\\rangle = \\rho |\\psi_\\rho\\rangle $$\n",
    "\n",
    "Then, also $H |\\psi_\\rho\\rangle$ is an eigenstate of $S$ with eigenvector $\\rho$ due to, \n",
    "\n",
    "$$ S (H |\\psi_\\rho\\rangle) = H S|\\psi_\\rho\\rangle = \\rho (H|\\psi_\\rho\\rangle).$$\n",
    "\n",
    "Now explicitly for an $N$-site Heisenberg chain, given a spin configuration $|\\sigma_1 \\sigma_2 \\cdots \\sigma_{N-1} \\sigma_N \\rangle$ we can consider the so-called **symmetry-adapted state**,\n",
    "\n",
    "$$ P_\\rho |\\sigma_1 \\sigma_2 \\cdots \\sigma_{N-1} \\sigma_N \\rangle= \\sum_{n=0}^{N-1} e^{i k n} T^n |\\sigma_1 \\sigma_2 \\cdots \\sigma_{N-1} \\sigma_N \\rangle. $$\n",
    "\n",
    "We have,\n",
    "\n",
    "$$ T P_\\rho |\\sigma_1 \\sigma_2 \\cdots \\sigma_{N-1} \\sigma_N \\rangle = e^{-i k} P_\\rho |\\sigma_1 \\sigma_2 \\cdots \\sigma_{N-1}\\rangle$$\n",
    "\n",
    "and, hence, $P_\\rho |\\sigma_1 \\sigma_2 \\cdots \\sigma_{N-1} \\sigma_N \\rangle$ is an eigenstate of $T$. Since $T^n = \\textrm{Id}$, the values of $k$ need to satisfy $k = 2\\pi l / n$, where $l$ is an integer. The Hamiltonian can now be expressed in the basis of these symmetry adapted states, where it then decomposes into blocks labeled by there quantum number, in this case the **(quasi-)momentum**. More generically, the numbers $\\chi(n) = e^{i k n}$ can have different forms for different symmetry groups and are refered to as an (one-dimensional) **irreducible representation (irrep)** of the symmetry group."
   ]
  },
  {
   "cell_type": "code",
   "execution_count": null,
   "id": "a22460a9-0bd1-4bf0-8d68-f615728a3ffa",
   "metadata": {},
   "outputs": [],
   "source": [
    "N = 4\n",
    "nup = 2\n",
    "ops = OpSum()\n",
    "for i in 1:N\n",
    "    ops += Op(\"HB\", 1.0, [i, mod1(i+1, N)])\n",
    "end\n",
    "\n",
    "id = Permutation([1, 2, 3, 4])\n",
    "T = Permutation([2, 3, 4, 1])\n",
    "group = PermutationGroup([id, T, T*T, T*T*T])\n",
    "\n",
    "# 0-momentum irrep\n",
    "irrep = Representation([1, 1, 1, 1])\n",
    "block = Spinhalf(N, nup, group, irrep)\n",
    "for s in block\n",
    "    print(s)\n",
    "end\n",
    "println()\n",
    "\n",
    "H = matrix(ops, block)\n",
    "println(\"0 momentum\")\n",
    "display(H)\n",
    "display(eigvals(H))\n",
    "\n",
    "# pi/2-momentum irrep\n",
    "irrep = Representation([1, 1im, -1, -1im])\n",
    "block = Spinhalf(N, nup, group, irrep)\n",
    "H = matrix(ops, block)\n",
    "println(\"pi/2 momentum\")\n",
    "display(H)\n",
    "display(eigvals(Hermitian(H)))\n",
    "\n",
    "# pi-momentum irrep\n",
    "irrep = Representation([1, -1, 1, -1])\n",
    "block = Spinhalf(N, nup, group, irrep)\n",
    "H = matrix(ops, block)\n",
    "println(\"pi momentum\")\n",
    "display(H)\n",
    "display(eigvals(H))"
   ]
  },
  {
   "cell_type": "markdown",
   "id": "b4e1eec5-414f-45a2-918b-3c2a990d3083",
   "metadata": {},
   "source": [
    "### Exersize 2\n",
    "\n",
    "Compute the full spectrum of the four-site Heisenberg chain, both with and without momentum conservation. Check whether the results from both computations agree."
   ]
  },
  {
   "cell_type": "code",
   "execution_count": null,
   "id": "cce4d3d8-b3fc-4ced-b46f-8657e10c550b",
   "metadata": {},
   "outputs": [],
   "source": []
  },
  {
   "cell_type": "markdown",
   "id": "0d87ea96-4401-40ac-8221-a9dd10d1828e",
   "metadata": {},
   "source": [
    "#### Solution"
   ]
  },
  {
   "cell_type": "code",
   "execution_count": null,
   "id": "c9f5af4b-d68a-4c4e-bb9e-b218592a03f4",
   "metadata": {
    "jupyter": {
     "source_hidden": true
    }
   },
   "outputs": [],
   "source": [
    "N = 4\n",
    "ops = OpSum()\n",
    "for i in 1:N\n",
    "    ops += Op(\"HB\", 1.0, [i, mod1(i+1, N)])\n",
    "end\n",
    "block = Spinhalf(N)\n",
    "H = matrix(ops, block)\n",
    "eigs = eigvals(Symmetric(H))\n",
    "\n",
    "id = Permutation([1, 2, 3, 4])\n",
    "T = Permutation([2, 3, 4, 1])\n",
    "group = PermutationGroup([id, T, T*T, T*T*T])\n",
    "\n",
    "ir1 = Representation([1, 1, 1, 1]) \n",
    "ir2 = Representation([1, -1, 1, -1])    \n",
    "ir3 = Representation([1, im, -1, -im])    \n",
    "ir4 = Representation([1, -im, -1, im])    \n",
    "\n",
    "eigs_sym = []\n",
    "for nup in 0:N\n",
    "    for irrep in [ir1, ir2, ir3, ir4]\n",
    "        block = Spinhalf(N, nup, group, irrep)\n",
    "        H = matrix(ops, block)\n",
    "        append!(eigs_sym, eigvals(Hermitian(H)))\n",
    "    end\n",
    "end\n",
    "sort!(eigs_sym)\n",
    "display(eigs)\n",
    "display(eigs_sym)\n",
    "@show isapprox(eigs, eigs_sym)"
   ]
  },
  {
   "cell_type": "markdown",
   "id": "6b113f1b-92ec-477f-8927-2d11cb00fd30",
   "metadata": {},
   "source": [
    "## Sparse Diagonalization and Algebra\n",
    "\n",
    "Instead of dealing with the full matrix of a Hamiltonian, XDiag implements iterative algorithms such as the [Lanczos algorithm](https://en.wikipedia.org/wiki/Lanczos_algorithm). It can be used to perform ED on larger system sizes. Moreover, there are several functions to apply operators and create zero or random states."
   ]
  },
  {
   "cell_type": "code",
   "execution_count": null,
   "id": "192a620f-1d34-43e9-8710-c0e3b8cddfb0",
   "metadata": {},
   "outputs": [],
   "source": [
    "N = 10\n",
    "ops = OpSum()\n",
    "for i in 1:N\n",
    "    ops += Op(\"HB\", 1.0, [i, mod1(i+1, N)])\n",
    "end\n",
    "block = Spinhalf(N)\n",
    "H = matrix(ops, block)\n",
    "eigs = eigvals(Symmetric(H))\n",
    "\n",
    "e0, gs = eig0(ops, block)\n",
    "\n",
    "Hgs = zeros(block)\n",
    "apply(ops, gs, Hgs)\n",
    "@show e0, eigs[1]\n",
    "@show norm(gs)\n",
    "@show dot(gs, Hgs)\n",
    "@show inner(ops, gs)\n",
    "\n",
    "rstate = rand(block)\n",
    "@show inner(ops, rstate)"
   ]
  },
  {
   "cell_type": "markdown",
   "id": "d36e8a16-1e0a-45bd-b332-4f9d0636873c",
   "metadata": {},
   "source": [
    "### Exercise 3\n",
    "\n",
    "Implement the Lanczos algorithm using the functions **rand**, and **apply** above to compute the ground state energy of a 10-site Heisenberg chain. "
   ]
  },
  {
   "cell_type": "code",
   "execution_count": null,
   "id": "74512b99-10d3-4653-a6b7-a797be483f83",
   "metadata": {},
   "outputs": [],
   "source": []
  },
  {
   "cell_type": "markdown",
   "id": "d34c661c-23de-42bd-a333-6ec7b8bd0ed0",
   "metadata": {},
   "source": [
    "#### Solution"
   ]
  },
  {
   "cell_type": "code",
   "execution_count": null,
   "id": "4c4a5e25-e9bf-4d26-80cb-f1325eae9c4e",
   "metadata": {
    "jupyter": {
     "source_hidden": true
    }
   },
   "outputs": [],
   "source": [
    "N = 10\n",
    "ops = OpSum()\n",
    "for i in 1:N\n",
    "    ops += Op(\"HB\", 1.0, [i, mod1(i+1, N)])\n",
    "end\n",
    "block = Spinhalf(N)\n",
    "    \n",
    "function lanczos(ops, block; precision=1e-12, max_iterations=1000)\n",
    "    \n",
    "    alphas = Float64[]\n",
    "    betas = Float64[]\n",
    "\n",
    "    v1 = rand(block; normalized=true)\n",
    "    v0 = zeros(block)\n",
    "    w = zeros(block)\n",
    "\n",
    "    alpha = 0.0\n",
    "    beta = 0.0\n",
    "        \n",
    "    prev_energy = 0\n",
    "    for iteration in 1:max_iterations\n",
    "\n",
    "        # Perform basic Lanczos iteration step\n",
    "        apply(ops, v1, w)\n",
    "        alpha = dot(v1, w)\n",
    "        w = w - alpha * v1 - beta * v0\n",
    "        v0 = v1\n",
    "\n",
    "        beta = norm(w)\n",
    "        v1 = w / beta\n",
    "\n",
    "        push!(alphas, alpha)\n",
    "\n",
    "        # Build up T-matrix\n",
    "        t_matrix = diagm(0 => alphas, 1 => betas, -1 => betas)\n",
    "        t_eigs = eigvals(Symmetric(t_matrix))\n",
    "\n",
    "        push!(betas, beta)\n",
    "        @show iteration, t_eigs[1]\n",
    "\n",
    "        # Return if converged\n",
    "        if isapprox(t_eigs[1], prev_energy; rtol=precision)\n",
    "            println(\"Lanczos converged in $iteration steps\")\n",
    "            return t_eigs, alphas, betas\n",
    "        end\n",
    "        prev_energy = t_eigs[1]\n",
    "    end            \n",
    "end\n",
    "\n",
    "t_eigs, alphas, betas = lanczos(ops, block)\n",
    "@show t_eigs[1]\n",
    "@show eigval0(ops, block)"
   ]
  },
  {
   "cell_type": "markdown",
   "id": "5312c463-2445-4804-8115-bb4b72247607",
   "metadata": {},
   "source": [
    "## Convergence of the Lanczos algorithm"
   ]
  },
  {
   "cell_type": "code",
   "execution_count": null,
   "id": "199b93ae-83ab-4938-828e-43cae4bdcbd1",
   "metadata": {},
   "outputs": [],
   "source": [
    "using CairoMakie\n",
    "f = Figure()\n",
    "ax = Axis(f[1, 1])\n",
    "niter = length(alphas)\n",
    "for iter in 1:niter\n",
    "    t_matrix = diagm(0 => alphas[1:iter], 1 => betas[1:iter-1], -1 => betas[1:iter-1])\n",
    "    t_eigs = eigvals(Symmetric(t_matrix))\n",
    "    scatter!(ax, iter*ones(size(t_eigs)), t_eigs)\n",
    "end\n",
    "ax.xlabel = \"iteration\"\n",
    "ax.ylabel = \"eigenvalue\"\n",
    "display(f)"
   ]
  },
  {
   "cell_type": "markdown",
   "id": "8c3d8ca0-b5b6-4cf3-977b-6128781b0c00",
   "metadata": {},
   "source": [
    "## Ground state correlations of triangular lattice Heisenberg model"
   ]
  },
  {
   "cell_type": "code",
   "execution_count": null,
   "id": "6d146bde-f1d4-4d62-ad69-39304655f4ea",
   "metadata": {},
   "outputs": [],
   "source": [
    "using TOML\n",
    "N = 12\n",
    "latfile = TOML.parsefile(\"triangular.$N.J1J2.toml\")\n",
    "    \n",
    "coords = latfile[\"Coordinates\"]\n",
    "interactions = latfile[\"Interactions\"]\n",
    "ops = OpSum()\n",
    "for interaction in interactions\n",
    "    type = interaction[1]\n",
    "    couplingname = interaction[2]\n",
    "    s1 = interaction[3] + 1\n",
    "    s2 = interaction[4] + 1\n",
    "    ops += Op(type, couplingname, [s1, s2])\n",
    "end\n",
    "ops[\"J1\"] = 1.0\n",
    "ops[\"J2\"] = 0.0\n",
    "\n",
    "block = Spinhalf(N, N÷2)\n",
    "e0, gs = eig0(ops, block)\n",
    "@show e0\n",
    "    \n",
    "for i in 2:N\n",
    "    s1si = Op(\"HB\", 1.0, [1, i])\n",
    "    corr = inner(s1si, gs)\n",
    "    println(\"$i $corr\")\n",
    "end"
   ]
  },
  {
   "cell_type": "markdown",
   "id": "cf01a86c-4bb4-4b74-bbf3-f3a9cd251daa",
   "metadata": {},
   "source": [
    "### Exercise 4\n",
    "\n",
    "Plot the correlation function on the triangular lattice defined by its coordinates, as read in from the text file above. What kind of magnetic order does the ground state have?"
   ]
  },
  {
   "cell_type": "code",
   "execution_count": null,
   "id": "01f28fef-1626-41cd-acc0-885519895e31",
   "metadata": {},
   "outputs": [],
   "source": []
  },
  {
   "cell_type": "markdown",
   "id": "0df7afee-d77b-4e99-947d-c54443ea34a5",
   "metadata": {},
   "source": [
    "## Ground state correlations of triangular lattice Heisenberg model (with translational symmetries)"
   ]
  },
  {
   "cell_type": "code",
   "execution_count": null,
   "id": "4b50dda6-e018-4f47-b2bf-87377d70c988",
   "metadata": {},
   "outputs": [],
   "source": [
    "    permutation_vecs = latfile[\"Symmetries\"]\n",
    "    permutations = Permutation[]\n",
    "    for permutation_vec in permutation_vecs\n",
    "        push!(permutations, Permutation(permutation_vec .+ 1))\n",
    "    end\n",
    "    group = PermutationGroup(permutations)\n",
    "    irrep = Representation(ones(size(group)))\n",
    "    block = Spinhalf(N, N÷2, group, irrep)\n",
    "    e0, gs = eig0(ops, block)\n",
    "    @show e0\n",
    "\n",
    "    for i in 2:N\n",
    "        s1si = symmetrize(Op(\"HB\", 1.0, [1, i]), group)\n",
    "        corr = inner(s1si, gs)\n",
    "        println(\"$i $corr\")\n",
    "    end"
   ]
  },
  {
   "cell_type": "code",
   "execution_count": null,
   "id": "09dbfc5d-c31a-4c5a-93bc-df7494f14af8",
   "metadata": {},
   "outputs": [],
   "source": []
  }
 ],
 "metadata": {
  "kernelspec": {
   "display_name": "Julia 1.10.5",
   "language": "julia",
   "name": "julia-1.10"
  },
  "language_info": {
   "file_extension": ".jl",
   "mimetype": "application/julia",
   "name": "julia",
   "version": "1.10.5"
  }
 },
 "nbformat": 4,
 "nbformat_minor": 5
}
